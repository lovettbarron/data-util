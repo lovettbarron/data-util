{
 "cells": [
  {
   "cell_type": "markdown",
   "metadata": {},
   "source": [
    "# Sack Patrol\n",
    "Because of scarcity marketing by microbrands, I must resort to this. I hope I learn my lesson.\n",
    "This is set up specifically for sites using BigCartel."
   ]
  },
  {
   "cell_type": "code",
   "execution_count": 1,
   "metadata": {},
   "outputs": [],
   "source": [
    "!jt -t oceans16\n",
    "\n",
    "%load_ext dotenv\n",
    "%dotenv\n",
    "# .env template\n",
    "# TWILIO_SID=\n",
    "# TWILIO_TOKEN=\n",
    "# TWILIO_TO=\n",
    "# TWILIO_FROM=\n",
    "# POLL_URL=\n",
    "\n",
    "import os\n",
    "import requests\n",
    "import polling2\n",
    "import logging\n",
    "import webbrowser\n",
    "import time\n",
    "import datetime  \n",
    "\n",
    "from IPython.display import display, clear_output\n",
    "import ipywidgets as widgets\n",
    "\n",
    "from IPython.display import Audio\n",
    "sound_file = './sound/iseeyou.wav'\n",
    "\n",
    "from twilio.rest import Client\n",
    "\n",
    "output = widgets.HTML()\n",
    "CHECK = 0\n",
    "ERROR = 0\n",
    "def increment():\n",
    "    global CHECK\n",
    "    CHECK += 1\n",
    "    \n",
    "def error():\n",
    "    global ERROR\n",
    "    ERROR += 1\n",
    "\n",
    "account_sid = os.getenv(\"TWILIO_SID\")\n",
    "auth_token  = os.getenv(\"TWILIO_TOKEN\")\n",
    "client = Client(account_sid, auth_token)\n",
    "    \n",
    "URL = os.getenv(\"POLL_URL\")\n",
    "START = datetime.datetime.now().strftime(\"%H:%M:%S\")"
   ]
  },
  {
   "cell_type": "code",
   "execution_count": 2,
   "metadata": {},
   "outputs": [],
   "source": [
    "## Main Check Function\n",
    "def check(r):\n",
    "#     print(datetime.datetime.now(),r)\n",
    "    clear_output()\n",
    "    display(output)\n",
    "    increment()\n",
    "    output.value=\"<h3>Checking...</h3><p>Started at \"+START+\" and checked \"+str(CHECK)+\" times; and \"+str(ERROR)+\" errors</p><p>Last Checked:\"+datetime.datetime.now().strftime(\"%H:%M:%S\")+\" - Status:\" +r.json()[\"status\"]+\"</p>\"\n",
    "    if r.json()[\"status\"] != \"sold-out\":\n",
    "        output.value = output.value+\"<h2>It's there! <a href='\"+URL+\"' target='_blank'>Get it!</a></h2>\"\n",
    "        message = client.messages.create(\n",
    "            to=os.getenv(\"TWILIO_TO\"), \n",
    "            from_=os.getenv(\"TWILIO_FROM\"),\n",
    "            body=URL)\n",
    "        webbrowser.open(URL, new=1)\n",
    "        display(Audio(sound_file, autoplay=True))\n",
    "        return True\n",
    "    else:\n",
    "        output.value = output.value+\"<h2>Nope. Sold out.</h2>\"\n",
    "        return False"
   ]
  },
  {
   "cell_type": "markdown",
   "metadata": {},
   "source": [
    "## Validate Text Message"
   ]
  },
  {
   "cell_type": "code",
   "execution_count": 3,
   "metadata": {},
   "outputs": [
    {
     "name": "stdout",
     "output_type": "stream",
     "text": [
      "SM245e753223424d96bbc8d898a68d4968\n"
     ]
    }
   ],
   "source": [
    "message = client.messages.create(\n",
    "    to=os.getenv(\"TWILIO_TO\"), \n",
    "    from_=os.getenv(\"TWILIO_FROM\"),\n",
    "    body=\"Starting Sack Patrol\")\n",
    "print(message.sid)"
   ]
  },
  {
   "cell_type": "markdown",
   "metadata": {},
   "source": [
    "This is just a quick check to make sure that the success state functions."
   ]
  },
  {
   "cell_type": "markdown",
   "metadata": {},
   "source": [
    "## Main Loop\n",
    "This is where the magic is. This will poll every 90s to see if the thing is not sold out according to the check function.\n",
    "The loop breaks once it is back on sale, triggers a browser window to open, sends me a message via twillio, and plays a creepy audio file."
   ]
  },
  {
   "cell_type": "code",
   "execution_count": 4,
   "metadata": {},
   "outputs": [],
   "source": [
    "\n",
    "def poll():\n",
    "    try:\n",
    "        polling2.poll(\n",
    "            lambda: requests.get(URL+'.js'),\n",
    "            check_success=check,\n",
    "            step=60*1,\n",
    "            poll_forever=True,\n",
    "            log=logging.DEBUG)\n",
    "    except:   # or catch one specific error with 'except AttributeError:'\n",
    "        error()\n",
    "        time.sleep(60)\n",
    "        poll()"
   ]
  },
  {
   "cell_type": "code",
   "execution_count": null,
   "metadata": {},
   "outputs": [
    {
     "data": {
      "application/vnd.jupyter.widget-view+json": {
       "model_id": "a8b3e157ea184bf7bbde03fc95fc604f",
       "version_major": 2,
       "version_minor": 0
      },
      "text/plain": [
       "HTML(value='<h3>Checking...</h3><p>Started at 14:22:52 and checked 1812 times; and 2 errors</p><p>Last Checked…"
      ]
     },
     "metadata": {},
     "output_type": "display_data"
    }
   ],
   "source": [
    "poll()"
   ]
  }
 ],
 "metadata": {
  "kernelspec": {
   "display_name": "Python 3",
   "language": "python",
   "name": "python3"
  },
  "language_info": {
   "codemirror_mode": {
    "name": "ipython",
    "version": 3
   },
   "file_extension": ".py",
   "mimetype": "text/x-python",
   "name": "python",
   "nbconvert_exporter": "python",
   "pygments_lexer": "ipython3",
   "version": "3.7.4"
  }
 },
 "nbformat": 4,
 "nbformat_minor": 2
}
